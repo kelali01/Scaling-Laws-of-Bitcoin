{
 "cells": [
  {
   "cell_type": "code",
   "execution_count": 61,
   "id": "2bb69127",
   "metadata": {},
   "outputs": [],
   "source": [
    "import pandas as pd\n",
    "import matplotlib.pyplot as plt\n",
    "import numpy as np\n",
    "import scipy.linalg as la\n",
    "\n",
    "sr = pd.read_csv(\"geodata.csv\")"
   ]
  },
  {
   "cell_type": "code",
   "execution_count": 32,
   "id": "27266281",
   "metadata": {},
   "outputs": [],
   "source": [
    "def Haversine(lat1,lon1,lat2,lon2, **kwarg):\n",
    "    \"\"\"\n",
    "    This uses the ‘haversine’ formula to calculate the great-circle distance between two points – that is, \n",
    "    the shortest distance over the earth’s surface – giving an ‘as-the-crow-flies’ distance between the points \n",
    "    (ignoring any hills they fly over, of course!).\n",
    "    Haversine\n",
    "    formula:    a = sin²(Δφ/2) + cos φ1 ⋅ cos φ2 ⋅ sin²(Δλ/2)\n",
    "    c = 2 ⋅ atan2( √a, √(1−a) )\n",
    "    d = R ⋅ c\n",
    "    where   φ is latitude, λ is longitude, R is earth’s radius (mean radius = 6,371km);\n",
    "    note that angles need to be in radians to pass to trig functions!\n",
    "    \"\"\"\n",
    "    R = 6371.0088\n",
    "    lat1,lon1,lat2,lon2 = map(np.radians, [lat1,lon1,lat2,lon2])\n",
    "\n",
    "    dlat = lat2 - lat1\n",
    "    dlon = lon2 - lon1\n",
    "    a = np.sin(dlat/2)**2 + np.cos(lat1) * np.cos(lat2) * np.sin(dlon/2) **2\n",
    "    c = 2 * np.arctan2(a**0.5, (1-a)**0.5)\n",
    "    d = R * c\n",
    "   \n",
    "    return round(d,1)"
   ]
  },
  {
   "cell_type": "code",
   "execution_count": 75,
   "id": "64308a72",
   "metadata": {},
   "outputs": [],
   "source": [
    "sr['distance']=Haversine(sr['src_latitude'],sr['src_longitude'],sr['dst_latitude'],sr['dst_longitude'])"
   ]
  },
  {
   "cell_type": "markdown",
   "id": "eb8846c8",
   "metadata": {},
   "source": [
    "1. Grouping the users based on their activity"
   ]
  },
  {
   "cell_type": "code",
   "execution_count": 46,
   "id": "cb2fc40d",
   "metadata": {},
   "outputs": [],
   "source": [
    "sender = list(sr['src_user'])\n",
    "s_set = set(sr['src_user'])\n",
    "receiver = list(sr['dst_user'])\n",
    "r_set = set(sr['dst_user'])\n",
    "\n",
    "users = sender + receiver\n",
    "\n",
    "user = {}\n",
    "for i in users:\n",
    "    if i not in user.keys():\n",
    "        user[i] = 0\n",
    "    user[i] += 1   "
   ]
  },
  {
   "cell_type": "code",
   "execution_count": 47,
   "id": "1764cdaf",
   "metadata": {},
   "outputs": [],
   "source": [
    "user_merc = user.copy()\n",
    "user_mine = user.copy()\n",
    "\n",
    "del_key = []\n",
    "for i in user_merc.keys():\n",
    "    if user_merc[i] < 120:\n",
    "        del_key.append(i)\n",
    "        \n",
    "for i in del_key:\n",
    "    user_merc.pop(i)\n",
    "\n",
    "    \n",
    "del_key0 = []\n",
    "for i in user_mine.keys():\n",
    "    if user_mine[i] > 50:\n",
    "        del_key0.append(i)\n",
    "        \n",
    "for i in del_key0:\n",
    "    user_mine.pop(i)"
   ]
  },
  {
   "cell_type": "code",
   "execution_count": 48,
   "id": "be30c0d5",
   "metadata": {},
   "outputs": [],
   "source": [
    "merchant = set(user_merc.keys())\n",
    "miner1 = set(user_mine.keys())"
   ]
  },
  {
   "cell_type": "code",
   "execution_count": 49,
   "id": "51855cdf",
   "metadata": {},
   "outputs": [],
   "source": [
    "value = list(sr['value'])\n",
    "\n",
    "maxtx = {}\n",
    "\n",
    "for i in range(101342):\n",
    "    address = sender[i]\n",
    "    if address not in maxtx.keys():\n",
    "        maxtx[address] = 0\n",
    "    if value[i] > maxtx[address]:\n",
    "        maxtx[address] = value[i]"
   ]
  },
  {
   "cell_type": "code",
   "execution_count": 50,
   "id": "143313ae",
   "metadata": {},
   "outputs": [],
   "source": [
    "del_key1 = []\n",
    "for i in maxtx.keys():\n",
    "    if maxtx[i] < 15:\n",
    "        del_key1.append(i)\n",
    "        \n",
    "for i in del_key1:\n",
    "    maxtx.pop(i)"
   ]
  },
  {
   "cell_type": "code",
   "execution_count": 51,
   "id": "2caa533a",
   "metadata": {},
   "outputs": [],
   "source": [
    "miner2 = set(maxtx.keys())\n",
    "miner = miner1 & miner2\n",
    "users = (s_set | r_set) - (miner | merchant)"
   ]
  },
  {
   "cell_type": "markdown",
   "id": "cf8b4c3c",
   "metadata": {},
   "source": [
    "2. Grouping by geolocation"
   ]
  },
  {
   "cell_type": "code",
   "execution_count": 52,
   "id": "6c918291",
   "metadata": {},
   "outputs": [],
   "source": [
    "miner_cont = [[], [], []]\n",
    "merc_cont = [[], [], []]\n",
    "users_cont = [[], [], []]\n",
    "cont = ['NAM', 'SA', 'EU', 'AS', 'OC'] "
   ]
  },
  {
   "cell_type": "code",
   "execution_count": 53,
   "id": "e08baa74",
   "metadata": {},
   "outputs": [],
   "source": [
    "for i in miner:\n",
    "    is_IDs = sr['src_user'] == i\n",
    "    is_IDd = sr['dst_user'] == i\n",
    "\n",
    "    sr_ID = sr[is_IDs | is_IDd]\n",
    "    \n",
    "    row = sr_ID.loc[sr_ID.index[0]]\n",
    "    if row[0] == i:\n",
    "        if row[4] == cont[0]:\n",
    "            miner_cont[0].append(i)\n",
    "        elif row[4] == cont[1]:\n",
    "            miner_cont[0].append(i)\n",
    "        elif row[4] == cont[2]:\n",
    "            miner_cont[1].append(i)\n",
    "        elif row[4] == cont[3]:\n",
    "            miner_cont[2].append(i) \n",
    "        elif row[4] == cont[4]:\n",
    "            miner_cont[2].append(i)\n",
    "    else:\n",
    "        if row[13] == cont[0]:\n",
    "            miner_cont[0].append(i)\n",
    "        elif row[13] == cont[1]:\n",
    "            miner_cont[0].append(i)\n",
    "        elif row[13] == cont[2]:\n",
    "            miner_cont[1].append(i)\n",
    "        elif row[13] == cont[3]:\n",
    "            miner_cont[2].append(i)\n",
    "        elif row[13] == cont[4]:\n",
    "            miner_cont[2].append(i)\n",
    "                \n",
    "for i in merchant:\n",
    "    is_IDs = sr['src_user'] == i\n",
    "    is_IDd = sr['dst_user'] == i\n",
    "\n",
    "    sr_ID = sr[is_IDs | is_IDd]\n",
    "    \n",
    "    row = sr_ID.loc[sr_ID.index[0]]\n",
    "    if row[0] == i:\n",
    "        if row[4] == cont[0]:\n",
    "            merc_cont[0].append(i)\n",
    "        elif row[4] == cont[1]:\n",
    "            merc_cont[0].append(i)\n",
    "        elif row[4] == cont[2]:\n",
    "            merc_cont[1].append(i)\n",
    "        elif row[4] == cont[3]:\n",
    "            merc_cont[2].append(i) \n",
    "        elif row[4] == cont[4]:\n",
    "            merc_cont[2].append(i)\n",
    "    else:\n",
    "        if row[13] == cont[0]:\n",
    "            merc_cont[0].append(i)\n",
    "        elif row[13] == cont[1]:\n",
    "            merc_cont[0].append(i)\n",
    "        elif row[13] == cont[2]:\n",
    "            merc_cont[1].append(i)\n",
    "        elif row[13] == cont[3]:\n",
    "            merc_cont[2].append(i)\n",
    "        elif row[13] == cont[4]:\n",
    "            merc_cont[2].append(i) \n",
    "            \n",
    "for i in users:\n",
    "    is_IDs = sr['src_user'] == i\n",
    "    is_IDd = sr['dst_user'] == i\n",
    "\n",
    "    sr_ID = sr[is_IDs | is_IDd]\n",
    "    \n",
    "    row = sr_ID.loc[sr_ID.index[0]]\n",
    "    if row[0] == i:\n",
    "        if row[4] == cont[0]:\n",
    "            users_cont[0].append(i)\n",
    "        elif row[4] == cont[1]:\n",
    "            users_cont[0].append(i)\n",
    "        elif row[4] == cont[2]:\n",
    "            users_cont[1].append(i)\n",
    "        elif row[4] == cont[3]:\n",
    "            users_cont[2].append(i) \n",
    "        elif row[4] == cont[4]:\n",
    "            users_cont[2].append(i)\n",
    "    else:\n",
    "        if row[13] == cont[0]:\n",
    "            users_cont[0].append(i)\n",
    "        elif row[13] == cont[1]:\n",
    "            users_cont[0].append(i)\n",
    "        elif row[13] == cont[2]:\n",
    "            users_cont[1].append(i)\n",
    "        elif row[13] == cont[3]:\n",
    "            users_cont[2].append(i)\n",
    "        elif row[13] == cont[4]:\n",
    "            users_cont[2].append(i)                 "
   ]
  },
  {
   "cell_type": "markdown",
   "id": "a3161e3a",
   "metadata": {},
   "source": [
    "3. Making the relative freqency matrix"
   ]
  },
  {
   "cell_type": "code",
   "execution_count": 54,
   "id": "f0d1bb9b",
   "metadata": {},
   "outputs": [],
   "source": [
    "rel_freq = []\n",
    "for i in range(9):\n",
    "    rel_freq.append([0,0,0,0,0,0,0,0,0])"
   ]
  },
  {
   "cell_type": "code",
   "execution_count": 55,
   "id": "d12d8aba",
   "metadata": {},
   "outputs": [],
   "source": [
    "def find_pos(id, cont):\n",
    "    if id in miner:\n",
    "        if cont == 'NAM':\n",
    "            return 0\n",
    "        elif cont  == 'SA':\n",
    "            return 0\n",
    "        elif cont == 'EU':\n",
    "            return 1\n",
    "        elif cont == 'AS':\n",
    "            return 2\n",
    "        elif cont == 'OC':\n",
    "            return 2\n",
    "    elif id in merchant:\n",
    "        if cont == 'NAM':\n",
    "            return 3\n",
    "        elif cont  == 'SA':\n",
    "            return 3\n",
    "        elif cont == 'EU':\n",
    "            return 4\n",
    "        elif cont == 'AS':\n",
    "            return 5\n",
    "        elif cont == 'OC':\n",
    "            return 5\n",
    "    elif id in users:\n",
    "        if cont == 'NAM':\n",
    "            return 6\n",
    "        elif cont  == 'SA':\n",
    "            return 6\n",
    "        elif cont == 'EU':\n",
    "            return 7\n",
    "        elif cont == 'AS':\n",
    "            return 8\n",
    "        elif cont == 'OC':\n",
    "            return 8       "
   ]
  },
  {
   "cell_type": "code",
   "execution_count": 56,
   "id": "b7f98f71",
   "metadata": {},
   "outputs": [],
   "source": [
    "for row in sr.values:\n",
    "    sen = row[0]\n",
    "    rec = row[9]\n",
    "    s_cont = row[4]\n",
    "    r_cont = row[13]\n",
    "    rel_freq[find_pos(sen, s_cont)][find_pos(rec, r_cont)] += 1"
   ]
  },
  {
   "cell_type": "code",
   "execution_count": 58,
   "id": "f7749e90",
   "metadata": {},
   "outputs": [],
   "source": [
    "freq_plot = []\n",
    "for i in range(9):\n",
    "    freq_plot.append([0,0,0,0,0,0,0,0,0])\n",
    "\n",
    "for i in range(9):\n",
    "    for j in range(9):\n",
    "        freq_plot[i][j] = rel_freq[i][j]/ 101342"
   ]
  },
  {
   "cell_type": "markdown",
   "id": "2f550183",
   "metadata": {},
   "source": [
    "4. Making the transition matrix and determine the distances between the groups"
   ]
  },
  {
   "cell_type": "code",
   "execution_count": 59,
   "id": "87e49eb9",
   "metadata": {},
   "outputs": [],
   "source": [
    "row_sum = []\n",
    "for i in range(9):\n",
    "    row = 0\n",
    "    for j in range(9):\n",
    "        row += rel_freq[i][j]\n",
    "    row_sum.append(row)"
   ]
  },
  {
   "cell_type": "code",
   "execution_count": 60,
   "id": "ef4f1d16",
   "metadata": {},
   "outputs": [],
   "source": [
    "av_dist = []\n",
    "for i in range(9):\n",
    "    av_dist.append([[],[],[],[],[],[],[],[],[]])\n",
    "    \n",
    "for row in sr.values:\n",
    "    sender = row[0]\n",
    "    rec = row[9]\n",
    "    s_cont = row[4]\n",
    "    r_cont = row[13]\n",
    "    dist = row[15]\n",
    "    av_dist[find_pos(sender, s_cont)][find_pos(rec, r_cont)].append(dist)    "
   ]
  },
  {
   "cell_type": "code",
   "execution_count": 62,
   "id": "19d66aed",
   "metadata": {},
   "outputs": [],
   "source": [
    "for i in range(9):\n",
    "    for j in range(9):\n",
    "        rel_freq[i][j] = rel_freq[i][j] / row_sum[i]"
   ]
  },
  {
   "cell_type": "markdown",
   "id": "6f1f54c2",
   "metadata": {},
   "source": [
    "5. Calculate the eigenvector belongs to eigenvalue 1 to get the stationary distribution"
   ]
  },
  {
   "cell_type": "code",
   "execution_count": 99,
   "id": "7aa61c66",
   "metadata": {},
   "outputs": [
    {
     "data": {
      "text/plain": [
       "array([0.00792733, 0.00321761, 0.00103287, 0.1997769 , 0.30758065,\n",
       "       0.08861481, 0.26758128, 0.11897117, 0.00529738])"
      ]
     },
     "execution_count": 99,
     "metadata": {},
     "output_type": "execute_result"
    }
   ],
   "source": [
    "array = np.vstack(rel_freq)        \n",
    "sol = la.eig(np.transpose(array))[1][:,0]\n",
    "res = sol / sol.sum()\n",
    "res = np.real(res)\n",
    "res"
   ]
  },
  {
   "cell_type": "code",
   "execution_count": 68,
   "id": "c9fa26e5",
   "metadata": {},
   "outputs": [
    {
     "data": {
      "text/plain": [
       "Text(0, 0.5, 'Groups')"
      ]
     },
     "execution_count": 68,
     "metadata": {},
     "output_type": "execute_result"
    },
    {
     "data": {
      "image/png": "[encoded data removed]",
      "text/plain": [
       "<Figure size 640x480 with 1 Axes>"
      ]
     },
     "metadata": {},
     "output_type": "display_data"
    }
   ],
   "source": [
    "import seaborn as sns\n",
    "\n",
    "sns.barplot(x= res,y= ['MI_AM','MI_EU','MI_AS','ME_AM','ME_EU','ME_AS','US_AM','US_EU','US_AS'],color=\"b\")\n",
    "\n",
    "plt.xlabel('Probability', fontsize=10, weight='bold')\n",
    "plt.ylabel('Groups', fontsize=10, weight='bold')"
   ]
  },
  {
   "cell_type": "markdown",
   "id": "c586e40d",
   "metadata": {},
   "source": [
    "6. Compare the empiric and the approximated distributions"
   ]
  },
  {
   "cell_type": "code",
   "execution_count": 86,
   "id": "13b61781",
   "metadata": {},
   "outputs": [],
   "source": [
    "k = 101342\n",
    "\n",
    "sender = np.random.choice(9, k, p=res)\n",
    "\n",
    "receiver = []\n",
    "\n",
    "for i in sender:\n",
    "    receiver.append(int(np.random.choice(9,1,p=rel_freq[i])))"
   ]
  },
  {
   "cell_type": "code",
   "execution_count": 87,
   "id": "33441f53",
   "metadata": {},
   "outputs": [],
   "source": [
    "dist = []\n",
    "for i in range(k):\n",
    "    element = int(np.random.choice(len(av_dist[sender[i]][receiver[i]]), 1))\n",
    "    dist.append(av_dist[sender[i]][receiver[i]][element])"
   ]
  },
  {
   "cell_type": "code",
   "execution_count": 89,
   "id": "b9fe9f70",
   "metadata": {},
   "outputs": [
    {
     "data": {
      "text/plain": [
       "<matplotlib.legend.Legend at 0x17e2e4b6110>"
      ]
     },
     "execution_count": 89,
     "metadata": {},
     "output_type": "execute_result"
    },
    {
     "data": {
      "image/png": "[encoded data removed]",
      "text/plain": [
       "<Figure size 1200x600 with 1 Axes>"
      ]
     },
     "metadata": {},
     "output_type": "display_data"
    }
   ],
   "source": [
    "dis = sr['distance']\n",
    "\n",
    "fig, axs = plt.subplots(1, 1, figsize=(12,6))\n",
    "\n",
    "plt.hist(dis,bins=100, density=True, color='orange', alpha=0.6, label='Original dist.')\n",
    "plt.hist(dist ,bins=100, density=True, color='blue', alpha=0.4, label='Markov approx.')\n",
    "\n",
    "\n",
    "axs.set_yscale('log')\n",
    "plt.xlabel('Distance(Km)', fontsize=10, weight='bold')\n",
    "plt.ylabel('Probability', fontsize=10, weight='bold')\n",
    "\n",
    "plt.legend()"
   ]
  },
  {
   "cell_type": "code",
   "execution_count": 90,
   "id": "c7d2c015",
   "metadata": {},
   "outputs": [
    {
     "data": {
      "text/plain": [
       "[None,\n",
       " None,\n",
       " None,\n",
       " None,\n",
       " None,\n",
       " None,\n",
       " None,\n",
       " None,\n",
       " None,\n",
       " None,\n",
       " None,\n",
       " None,\n",
       " None,\n",
       " None,\n",
       " None,\n",
       " None,\n",
       " None,\n",
       " None,\n",
       " None,\n",
       " None,\n",
       " None,\n",
       " None,\n",
       " None,\n",
       " None,\n",
       " None,\n",
       " None,\n",
       " None,\n",
       " None,\n",
       " None,\n",
       " None,\n",
       " None,\n",
       " None,\n",
       " None,\n",
       " None,\n",
       " None,\n",
       " None]"
      ]
     },
     "execution_count": 90,
     "metadata": {},
     "output_type": "execute_result"
    },
    {
     "data": {
      "image/png": "[encoded data removed]",
      "text/plain": [
       "<Figure size 640x480 with 2 Axes>"
      ]
     },
     "metadata": {},
     "output_type": "display_data"
    }
   ],
   "source": [
    "from matplotlib.colors import LogNorm, Normalize\n",
    "\n",
    "ax = sns.heatmap(freq_plot, linewidth=0.5, cbar_kws={'label': 'Probability'},square=True, norm=LogNorm())\n",
    "\n",
    "plt.xlabel('Receiver', fontsize=10, weight='bold')\n",
    "plt.ylabel('Sender', fontsize=10, weight='bold')\n",
    "\n",
    "ax.set_xticks(np.arange(0.5,9.5),labels=['MI_AM','MI_EU','MI_AS','ME_AM','ME_EU','ME_AS','US_AM','US_EU','US_AS'])\n",
    "plt.setp(ax.get_xticklabels(), rotation=45, ha=\"right\",\n",
    "         rotation_mode=\"anchor\")\n",
    "\n",
    "ax.set_yticks(np.arange(0.5,9.5),labels=['MI_AM','MI_EU','MI_AS','ME_AM','ME_EU','ME_AS','US_AM','US_EU','US_AS'])\n",
    "plt.setp(ax.get_yticklabels(), rotation=360, ha=\"right\",\n",
    "         rotation_mode=\"anchor\")"
   ]
  },
  {
   "cell_type": "markdown",
   "id": "cefe9091",
   "metadata": {},
   "source": [
    "7. Calcute the Kolmogorov-Smirnov statistic"
   ]
  },
  {
   "cell_type": "code",
   "execution_count": 91,
   "id": "f9192272",
   "metadata": {},
   "outputs": [],
   "source": [
    "from scipy import stats"
   ]
  },
  {
   "cell_type": "code",
   "execution_count": 98,
   "id": "0cee3329",
   "metadata": {},
   "outputs": [
    {
     "name": "stdout",
     "output_type": "stream",
     "text": [
      "0.08111962024573983\n"
     ]
    }
   ],
   "source": [
    "p_sum = 0\n",
    "for e in range(500):\n",
    "\n",
    "    it = 500\n",
    "\n",
    "    sender = np.random.choice(9, it, p=res)\n",
    "\n",
    "    receiver = []\n",
    "\n",
    "    for i in sender:\n",
    "        receiver.append(int(np.random.choice(9,1,p=rel_freq[i])))\n",
    "    dist = []\n",
    "    for i in range(it):\n",
    "        element = int(np.random.choice(len(av_dist[sender[i]][receiver[i]]), 1))\n",
    "        dist.append(av_dist[sender[i]][receiver[i]][element])    \n",
    "\n",
    "    stat, p = stats.kstest(dist, dis)\n",
    "    p_sum += p\n",
    "\n",
    "p_sum = p_sum/500\n",
    "            \n",
    "print(p_sum)            "
   ]
  },
  {
   "cell_type": "markdown",
   "id": "daafa226",
   "metadata": {},
   "source": [
    "8. Optimization\n",
    "\n",
    "\n",
    "The process contained 3 for cycle, iterating the number of transactions which a merchant participated (TX_merch),\n",
    "number of transactions which a miner participated (TX_miner) and a minimal value a miner sent (val). Making 500 tx, calculate the KS statistic, doing it 100 times and calculate the average. We want to maximalize the p-value.\n",
    "\n",
    "\n",
    "During the optimization the 3 parametres were changing between the following intervals:\n",
    "    TX_merch: 100-170, step=5\n",
    "    TX-miner: 30-90, step=5\n",
    "    val: 12-20, step=1\n",
    "    \n",
    "We received that the optimal values are: (120,50,15) and the p-value is 0.08"
   ]
  },
  {
   "cell_type": "code",
   "execution_count": null,
   "id": "e12f662a",
   "metadata": {},
   "outputs": [],
   "source": []
  }
 ],
 "metadata": {
  "kernelspec": {
   "display_name": "Python 3 (ipykernel)",
   "language": "python",
   "name": "python3"
  },
  "language_info": {
   "codemirror_mode": {
    "name": "ipython",
    "version": 3
   },
   "file_extension": ".py",
   "mimetype": "text/x-python",
   "name": "python",
   "nbconvert_exporter": "python",
   "pygments_lexer": "ipython3",
   "version": "3.11.3"
  }
 },
 "nbformat": 4,
 "nbformat_minor": 5
}
